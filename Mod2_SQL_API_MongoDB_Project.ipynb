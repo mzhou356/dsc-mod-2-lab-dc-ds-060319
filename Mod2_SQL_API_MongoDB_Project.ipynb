{
 "cells": [
  {
   "cell_type": "markdown",
   "metadata": {},
   "source": [
    "\n",
    "# Module 2 Summative Lab\n",
    "\n",
    "## Introduction\n",
    "\n",
    "For today's section, we're going to work on a single big lab to apply everything we've learned in Module 2!\n",
    "\n",
    "## About This Lab\n",
    "\n",
    "A quick note before getting started--this lab isn't like other labs you seen so far. This lab is meant to take ~8 hours to complete, so it's much longer and more challenging that the average labs you've seen so far. If you feel like this lab is challenging or that you might be struggling a bit, don't fret--that's by design! With everything we've learned about Web Scraping, APIs, and Databases, the best way to test our knowledge of it is to build something substantial! \n",
    "\n",
    "## The Project\n",
    "\n",
    "In this lab, we're going to make use of everything we've learned about APIs, databases, and Object-Oriented Programming to **_Extract, Transform, and Load_** (or **_ETL_**, for short) some data from a SQL database into a MongoDB Database. \n",
    "\n",
    "You'll find a database containing information about soccer teams and the matches they've played in the file `database.sqlite`. For this project, our goal is to get the data we think is important from this SQL database, do some calculations and data transformation, and then store everything in a MongoDB database. \n",
    "\n",
    "Let's get into the specifics of this project.\n",
    "\n"
   ]
  },
  {
   "cell_type": "markdown",
   "metadata": {},
   "source": [
    "### The Goal\n",
    "\n",
    "Start by examining the data dictionary for the SQL database we'll be working with, which comes from this [kaggle page](https://www.kaggle.com/laudanum/footballdelphi).  Familiarize yourself with the tables it contains, and what each column means. We'll be using this database to get data on each soccer team, calculate some summary statistics, and then store each in a MongoDB database. \n",
    "\n",
    "Upon completion of this lab, each unique team in this dataset should have a record in the MongoDB instance containing the following information:\n",
    "\n",
    "* The name of the team\n",
    "* The total number of goals scored by the team during the 2011 season\n",
    "* The total nmumber of wins the team earned during the 2011 season\n",
    "* A histogram visualization of the team's wins and losses for the 2011 season (store the visualization directly)\n",
    "* The team's win percentage on days where it was raining during games in the 2011 season. "
   ]
  },
  {
   "cell_type": "code",
   "execution_count": 1,
   "metadata": {},
   "outputs": [],
   "source": [
    "# import libraries\n",
    "import sqlite3\n",
    "import pandas as pd \n",
    "import matplotlib.pyplot as plt\n",
    "%matplotlib inline\n",
    "import requests \n",
    "import os\n",
    "import pymongo\n",
    "import base64"
   ]
  },
  {
   "cell_type": "code",
   "execution_count": 2,
   "metadata": {},
   "outputs": [],
   "source": [
    "# checkout the database \n",
    "conn = sqlite3.connect('database.sqlite')\n",
    "cur = conn.cursor()"
   ]
  },
  {
   "cell_type": "code",
   "execution_count": 3,
   "metadata": {},
   "outputs": [
    {
     "name": "stdout",
     "output_type": "stream",
     "text": [
      "[('sqlite_sequence',), ('Matches',), ('Teams_in_Matches',), ('Teams',), ('Unique_Teams',)]\n"
     ]
    }
   ],
   "source": [
    "# check for tables in my database\n",
    "cur.execute(\"SELECT name FROM sqlite_master WHERE type='table';\")\n",
    "print(cur.fetchall())"
   ]
  },
  {
   "cell_type": "markdown",
   "metadata": {},
   "source": [
    "\n",
    "# write a function to take a look at all tables"
   ]
  },
  {
   "cell_type": "code",
   "execution_count": 3,
   "metadata": {},
   "outputs": [],
   "source": [
    "def extracttable(table, query=None):\n",
    "    if query:\n",
    "        cur.execute(query)\n",
    "    else:\n",
    "        cur.execute(f'SELECT * FROM {table}')\n",
    "    dfname = pd.DataFrame(cur.fetchall())\n",
    "    dfname.columns = [x[0] for x in cur.description]\n",
    "    return dfname"
   ]
  },
  {
   "cell_type": "code",
   "execution_count": 27,
   "metadata": {},
   "outputs": [
    {
     "data": {
      "text/html": [
       "<div>\n",
       "<style scoped>\n",
       "    .dataframe tbody tr th:only-of-type {\n",
       "        vertical-align: middle;\n",
       "    }\n",
       "\n",
       "    .dataframe tbody tr th {\n",
       "        vertical-align: top;\n",
       "    }\n",
       "\n",
       "    .dataframe thead th {\n",
       "        text-align: right;\n",
       "    }\n",
       "</style>\n",
       "<table border=\"1\" class=\"dataframe\">\n",
       "  <thead>\n",
       "    <tr style=\"text-align: right;\">\n",
       "      <th></th>\n",
       "      <th>Match_ID</th>\n",
       "      <th>Div</th>\n",
       "      <th>Season</th>\n",
       "      <th>Date</th>\n",
       "      <th>HomeTeam</th>\n",
       "      <th>AwayTeam</th>\n",
       "      <th>FTHG</th>\n",
       "      <th>FTAG</th>\n",
       "      <th>FTR</th>\n",
       "    </tr>\n",
       "  </thead>\n",
       "  <tbody>\n",
       "    <tr>\n",
       "      <th>0</th>\n",
       "      <td>1</td>\n",
       "      <td>D2</td>\n",
       "      <td>2009</td>\n",
       "      <td>2010-04-04</td>\n",
       "      <td>Oberhausen</td>\n",
       "      <td>Kaiserslautern</td>\n",
       "      <td>2</td>\n",
       "      <td>1</td>\n",
       "      <td>H</td>\n",
       "    </tr>\n",
       "    <tr>\n",
       "      <th>1</th>\n",
       "      <td>2</td>\n",
       "      <td>D2</td>\n",
       "      <td>2009</td>\n",
       "      <td>2009-11-01</td>\n",
       "      <td>Munich 1860</td>\n",
       "      <td>Kaiserslautern</td>\n",
       "      <td>0</td>\n",
       "      <td>1</td>\n",
       "      <td>A</td>\n",
       "    </tr>\n",
       "  </tbody>\n",
       "</table>\n",
       "</div>"
      ],
      "text/plain": [
       "   Match_ID Div  Season        Date     HomeTeam        AwayTeam  FTHG  FTAG  \\\n",
       "0         1  D2    2009  2010-04-04   Oberhausen  Kaiserslautern     2     1   \n",
       "1         2  D2    2009  2009-11-01  Munich 1860  Kaiserslautern     0     1   \n",
       "\n",
       "  FTR  \n",
       "0   H  \n",
       "1   A  "
      ]
     },
     "execution_count": 27,
     "metadata": {},
     "output_type": "execute_result"
    }
   ],
   "source": [
    "# checkout the matches\n",
    "# need Date, HomeTeam, AwayTeam, FTHG, FTAG, FTR \n",
    "extracttable('Matches').head(2)"
   ]
  },
  {
   "cell_type": "code",
   "execution_count": 21,
   "metadata": {},
   "outputs": [
    {
     "data": {
      "text/html": [
       "<div>\n",
       "<style scoped>\n",
       "    .dataframe tbody tr th:only-of-type {\n",
       "        vertical-align: middle;\n",
       "    }\n",
       "\n",
       "    .dataframe tbody tr th {\n",
       "        vertical-align: top;\n",
       "    }\n",
       "\n",
       "    .dataframe thead th {\n",
       "        text-align: right;\n",
       "    }\n",
       "</style>\n",
       "<table border=\"1\" class=\"dataframe\">\n",
       "  <thead>\n",
       "    <tr style=\"text-align: right;\">\n",
       "      <th></th>\n",
       "      <th>Match_ID</th>\n",
       "      <th>Unique_Team_ID</th>\n",
       "    </tr>\n",
       "  </thead>\n",
       "  <tbody>\n",
       "    <tr>\n",
       "      <th>0</th>\n",
       "      <td>1</td>\n",
       "      <td>26</td>\n",
       "    </tr>\n",
       "    <tr>\n",
       "      <th>1</th>\n",
       "      <td>1</td>\n",
       "      <td>46</td>\n",
       "    </tr>\n",
       "  </tbody>\n",
       "</table>\n",
       "</div>"
      ],
      "text/plain": [
       "   Match_ID  Unique_Team_ID\n",
       "0         1              26\n",
       "1         1              46"
      ]
     },
     "execution_count": 21,
     "metadata": {},
     "output_type": "execute_result"
    }
   ],
   "source": [
    "# checkout match_teamID join relationship\n",
    "extracttable('Teams_in_Matches').head(2)"
   ]
  },
  {
   "cell_type": "code",
   "execution_count": 22,
   "metadata": {},
   "outputs": [
    {
     "data": {
      "text/html": [
       "<div>\n",
       "<style scoped>\n",
       "    .dataframe tbody tr th:only-of-type {\n",
       "        vertical-align: middle;\n",
       "    }\n",
       "\n",
       "    .dataframe tbody tr th {\n",
       "        vertical-align: top;\n",
       "    }\n",
       "\n",
       "    .dataframe thead th {\n",
       "        text-align: right;\n",
       "    }\n",
       "</style>\n",
       "<table border=\"1\" class=\"dataframe\">\n",
       "  <thead>\n",
       "    <tr style=\"text-align: right;\">\n",
       "      <th></th>\n",
       "      <th>Season</th>\n",
       "      <th>TeamName</th>\n",
       "      <th>KaderHome</th>\n",
       "      <th>AvgAgeHome</th>\n",
       "      <th>ForeignPlayersHome</th>\n",
       "      <th>OverallMarketValueHome</th>\n",
       "      <th>AvgMarketValueHome</th>\n",
       "      <th>StadiumCapacity</th>\n",
       "    </tr>\n",
       "  </thead>\n",
       "  <tbody>\n",
       "    <tr>\n",
       "      <th>0</th>\n",
       "      <td>2017</td>\n",
       "      <td>Bayern Munich</td>\n",
       "      <td>27</td>\n",
       "      <td>26</td>\n",
       "      <td>15</td>\n",
       "      <td>597950000</td>\n",
       "      <td>22150000</td>\n",
       "      <td>75000</td>\n",
       "    </tr>\n",
       "    <tr>\n",
       "      <th>1</th>\n",
       "      <td>2017</td>\n",
       "      <td>Dortmund</td>\n",
       "      <td>33</td>\n",
       "      <td>25</td>\n",
       "      <td>18</td>\n",
       "      <td>416730000</td>\n",
       "      <td>12630000</td>\n",
       "      <td>81359</td>\n",
       "    </tr>\n",
       "  </tbody>\n",
       "</table>\n",
       "</div>"
      ],
      "text/plain": [
       "  Season       TeamName KaderHome AvgAgeHome ForeignPlayersHome  \\\n",
       "0   2017  Bayern Munich        27         26                 15   \n",
       "1   2017       Dortmund        33         25                 18   \n",
       "\n",
       "  OverallMarketValueHome AvgMarketValueHome StadiumCapacity  \n",
       "0              597950000           22150000           75000  \n",
       "1              416730000           12630000           81359  "
      ]
     },
     "execution_count": 22,
     "metadata": {},
     "output_type": "execute_result"
    }
   ],
   "source": [
    "# Teams\n",
    "extracttable('Teams').head(2)"
   ]
  },
  {
   "cell_type": "code",
   "execution_count": 28,
   "metadata": {},
   "outputs": [
    {
     "data": {
      "text/html": [
       "<div>\n",
       "<style scoped>\n",
       "    .dataframe tbody tr th:only-of-type {\n",
       "        vertical-align: middle;\n",
       "    }\n",
       "\n",
       "    .dataframe tbody tr th {\n",
       "        vertical-align: top;\n",
       "    }\n",
       "\n",
       "    .dataframe thead th {\n",
       "        text-align: right;\n",
       "    }\n",
       "</style>\n",
       "<table border=\"1\" class=\"dataframe\">\n",
       "  <thead>\n",
       "    <tr style=\"text-align: right;\">\n",
       "      <th></th>\n",
       "      <th>TeamName</th>\n",
       "      <th>Unique_Team_ID</th>\n",
       "    </tr>\n",
       "  </thead>\n",
       "  <tbody>\n",
       "    <tr>\n",
       "      <th>0</th>\n",
       "      <td>Bayern Munich</td>\n",
       "      <td>1</td>\n",
       "    </tr>\n",
       "    <tr>\n",
       "      <th>1</th>\n",
       "      <td>Dortmund</td>\n",
       "      <td>2</td>\n",
       "    </tr>\n",
       "  </tbody>\n",
       "</table>\n",
       "</div>"
      ],
      "text/plain": [
       "        TeamName  Unique_Team_ID\n",
       "0  Bayern Munich               1\n",
       "1       Dortmund               2"
      ]
     },
     "execution_count": 28,
     "metadata": {},
     "output_type": "execute_result"
    }
   ],
   "source": [
    "# unqiue teams\n",
    "extracttable('Unique_Teams').head(2)"
   ]
  },
  {
   "cell_type": "code",
   "execution_count": 9,
   "metadata": {},
   "outputs": [
    {
     "data": {
      "text/html": [
       "<div>\n",
       "<style scoped>\n",
       "    .dataframe tbody tr th:only-of-type {\n",
       "        vertical-align: middle;\n",
       "    }\n",
       "\n",
       "    .dataframe tbody tr th {\n",
       "        vertical-align: top;\n",
       "    }\n",
       "\n",
       "    .dataframe thead th {\n",
       "        text-align: right;\n",
       "    }\n",
       "</style>\n",
       "<table border=\"1\" class=\"dataframe\">\n",
       "  <thead>\n",
       "    <tr style=\"text-align: right;\">\n",
       "      <th></th>\n",
       "      <th>name</th>\n",
       "      <th>seq</th>\n",
       "    </tr>\n",
       "  </thead>\n",
       "  <tbody>\n",
       "    <tr>\n",
       "      <th>0</th>\n",
       "      <td>Matches</td>\n",
       "      <td>46774</td>\n",
       "    </tr>\n",
       "    <tr>\n",
       "      <th>1</th>\n",
       "      <td>Unique_Teams</td>\n",
       "      <td>128</td>\n",
       "    </tr>\n",
       "  </tbody>\n",
       "</table>\n",
       "</div>"
      ],
      "text/plain": [
       "           name    seq\n",
       "0       Matches  46774\n",
       "1  Unique_Teams    128"
      ]
     },
     "execution_count": 9,
     "metadata": {},
     "output_type": "execute_result"
    }
   ],
   "source": [
    "# sqlite_sequence\n",
    "extracttable('sqlite_sequence').head(2)  # 46774 matches and 128 unique teams, couldbe less 128"
   ]
  },
  {
   "cell_type": "markdown",
   "metadata": {},
   "source": [
    "## looks like only need matches table for this project"
   ]
  },
  {
   "cell_type": "code",
   "execution_count": 4,
   "metadata": {},
   "outputs": [],
   "source": [
    "query1 = \"\"\"\n",
    "WITH home_team AS (SELECT HomeTeam, \n",
    "                SUM(FTHG) AS total_goal_home, \n",
    "                SUM(CASE FTR WHEN 'H' THEN 1 ELSE 0 END) AS num_win_home,\n",
    "                SUM(CASE FTR WHEN 'A' THEN 1 ELSE 0 END) AS num_loss_home\n",
    "                FROM Matches\n",
    "                WHERE Season = 2011\n",
    "                GROUP BY HomeTeam),\n",
    "    away_team AS (SELECT AwayTeam, \n",
    "                    SUM(FTAG) AS total_goal_away, \n",
    "                    SUM(CASE FTR WHEN 'A' THEN 1 ELSE 0 END) AS num_win_away,\n",
    "                    SUM(CASE FTR WHEN 'H' THEN 1 else 0 END) as num_loss_away\n",
    "                    FROM Matches\n",
    "                    WHERE Season = 2011\n",
    "                    GROUP BY AwayTeam)\n",
    "    SELECT HomeTeam AS TeamName,\n",
    "        total_goal_home + total_goal_away AS total_goal, \n",
    "        num_loss_home + num_loss_away AS total_loss, \n",
    "        num_win_away + num_win_home AS total_win\n",
    "    FROM home_team\n",
    "    JOIN away_team\n",
    "    ON home_team.HomeTeam = away_team.AwayTeam;\"\"\""
   ]
  },
  {
   "cell_type": "code",
   "execution_count": 5,
   "metadata": {
    "scrolled": false
   },
   "outputs": [
    {
     "data": {
      "text/html": [
       "<div>\n",
       "<style scoped>\n",
       "    .dataframe tbody tr th:only-of-type {\n",
       "        vertical-align: middle;\n",
       "    }\n",
       "\n",
       "    .dataframe tbody tr th {\n",
       "        vertical-align: top;\n",
       "    }\n",
       "\n",
       "    .dataframe thead th {\n",
       "        text-align: right;\n",
       "    }\n",
       "</style>\n",
       "<table border=\"1\" class=\"dataframe\">\n",
       "  <thead>\n",
       "    <tr style=\"text-align: right;\">\n",
       "      <th></th>\n",
       "      <th>TeamName</th>\n",
       "      <th>total_goal</th>\n",
       "      <th>total_loss</th>\n",
       "      <th>total_win</th>\n",
       "    </tr>\n",
       "  </thead>\n",
       "  <tbody>\n",
       "    <tr>\n",
       "      <th>0</th>\n",
       "      <td>Aachen</td>\n",
       "      <td>30</td>\n",
       "      <td>15</td>\n",
       "      <td>6</td>\n",
       "    </tr>\n",
       "    <tr>\n",
       "      <th>1</th>\n",
       "      <td>Arsenal</td>\n",
       "      <td>74</td>\n",
       "      <td>10</td>\n",
       "      <td>21</td>\n",
       "    </tr>\n",
       "    <tr>\n",
       "      <th>2</th>\n",
       "      <td>Aston Villa</td>\n",
       "      <td>37</td>\n",
       "      <td>14</td>\n",
       "      <td>7</td>\n",
       "    </tr>\n",
       "    <tr>\n",
       "      <th>3</th>\n",
       "      <td>Augsburg</td>\n",
       "      <td>36</td>\n",
       "      <td>12</td>\n",
       "      <td>8</td>\n",
       "    </tr>\n",
       "    <tr>\n",
       "      <th>4</th>\n",
       "      <td>Bayern Munich</td>\n",
       "      <td>77</td>\n",
       "      <td>7</td>\n",
       "      <td>23</td>\n",
       "    </tr>\n",
       "  </tbody>\n",
       "</table>\n",
       "</div>"
      ],
      "text/plain": [
       "        TeamName  total_goal  total_loss  total_win\n",
       "0         Aachen          30          15          6\n",
       "1        Arsenal          74          10         21\n",
       "2    Aston Villa          37          14          7\n",
       "3       Augsburg          36          12          8\n",
       "4  Bayern Munich          77           7         23"
      ]
     },
     "execution_count": 5,
     "metadata": {},
     "output_type": "execute_result"
    }
   ],
   "source": [
    "# \n",
    "query1_df = extracttable('Matches',query1)\n",
    "query1_df.head()# TeamName and total_goals"
   ]
  },
  {
   "cell_type": "markdown",
   "metadata": {},
   "source": [
    "## We obtained TeamName, total_goals, total_loss, and total_wins by Team in season 2011"
   ]
  },
  {
   "cell_type": "code",
   "execution_count": 6,
   "metadata": {
    "scrolled": true
   },
   "outputs": [
    {
     "data": {
      "image/png": "[encoded data removed]",
      "text/plain": [
       "<Figure size 432x288 with 1 Axes>"
      ]
     },
     "metadata": {
      "needs_background": "light"
     },
     "output_type": "display_data"
    }
   ],
   "source": [
    "# create all images and save in the folder images as the name of the team.png \n",
    "for i, row in query1_df.iterrows():\n",
    "    plt.bar(x = ['win','loss'], height = [row['total_win'],row['total_loss']], color = 'red')\n",
    "    plt.title('{} win loss Bar Plot'.format(row['TeamName']))\n",
    "    plt.xlabel ('count')\n",
    "    plt.ylabel('win and loss per team')\n",
    "    plt.savefig('images/{}.png'.format(row['TeamName']))"
   ]
  },
  {
   "cell_type": "markdown",
   "metadata": {},
   "source": [
    "## add win and lose barcharts to the query1_df column image"
   ]
  },
  {
   "cell_type": "code",
   "execution_count": 23,
   "metadata": {},
   "outputs": [],
   "source": [
    "Images = []  # save the png as base64 strings \n",
    "for i, row in query1_df.iterrows():\n",
    "    Team_Name = row['TeamName']\n",
    "    with open(\"images/{}.png\".format(Team_Name),'rb') as imageFile:\n",
    "        s = base64.b64encode(imageFile.read())\n",
    "        Images.append(s)"
   ]
  },
  {
   "cell_type": "code",
   "execution_count": 26,
   "metadata": {},
   "outputs": [],
   "source": [
    "# add the images to the column and remove the total_loss column\n",
    "query1_df['Images'] = Images\n",
    "query1_df.drop(columns = ['total_loss'],inplace=True )"
   ]
  },
  {
   "cell_type": "code",
   "execution_count": 27,
   "metadata": {},
   "outputs": [
    {
     "data": {
      "text/html": [
       "<div>\n",
       "<style scoped>\n",
       "    .dataframe tbody tr th:only-of-type {\n",
       "        vertical-align: middle;\n",
       "    }\n",
       "\n",
       "    .dataframe tbody tr th {\n",
       "        vertical-align: top;\n",
       "    }\n",
       "\n",
       "    .dataframe thead th {\n",
       "        text-align: right;\n",
       "    }\n",
       "</style>\n",
       "<table border=\"1\" class=\"dataframe\">\n",
       "  <thead>\n",
       "    <tr style=\"text-align: right;\">\n",
       "      <th></th>\n",
       "      <th>TeamName</th>\n",
       "      <th>total_goal</th>\n",
       "      <th>total_win</th>\n",
       "      <th>Images</th>\n",
       "    </tr>\n",
       "  </thead>\n",
       "  <tbody>\n",
       "    <tr>\n",
       "      <th>0</th>\n",
       "      <td>Aachen</td>\n",
       "      <td>30</td>\n",
       "      <td>6</td>\n",
       "      <td>b'iVBORw0KGgoAAAANSUhEUgAAAbAAAAEgCAYAAADVKCZp...</td>\n",
       "    </tr>\n",
       "    <tr>\n",
       "      <th>1</th>\n",
       "      <td>Arsenal</td>\n",
       "      <td>74</td>\n",
       "      <td>21</td>\n",
       "      <td>b'iVBORw0KGgoAAAANSUhEUgAAAbAAAAEgCAYAAADVKCZp...</td>\n",
       "    </tr>\n",
       "    <tr>\n",
       "      <th>2</th>\n",
       "      <td>Aston Villa</td>\n",
       "      <td>37</td>\n",
       "      <td>7</td>\n",
       "      <td>b'iVBORw0KGgoAAAANSUhEUgAAAbAAAAEgCAYAAADVKCZp...</td>\n",
       "    </tr>\n",
       "    <tr>\n",
       "      <th>3</th>\n",
       "      <td>Augsburg</td>\n",
       "      <td>36</td>\n",
       "      <td>8</td>\n",
       "      <td>b'iVBORw0KGgoAAAANSUhEUgAAAbAAAAEgCAYAAADVKCZp...</td>\n",
       "    </tr>\n",
       "    <tr>\n",
       "      <th>4</th>\n",
       "      <td>Bayern Munich</td>\n",
       "      <td>77</td>\n",
       "      <td>23</td>\n",
       "      <td>b'iVBORw0KGgoAAAANSUhEUgAAAbAAAAEgCAYAAADVKCZp...</td>\n",
       "    </tr>\n",
       "  </tbody>\n",
       "</table>\n",
       "</div>"
      ],
      "text/plain": [
       "        TeamName  total_goal  total_win  \\\n",
       "0         Aachen          30          6   \n",
       "1        Arsenal          74         21   \n",
       "2    Aston Villa          37          7   \n",
       "3       Augsburg          36          8   \n",
       "4  Bayern Munich          77         23   \n",
       "\n",
       "                                              Images  \n",
       "0  b'iVBORw0KGgoAAAANSUhEUgAAAbAAAAEgCAYAAADVKCZp...  \n",
       "1  b'iVBORw0KGgoAAAANSUhEUgAAAbAAAAEgCAYAAADVKCZp...  \n",
       "2  b'iVBORw0KGgoAAAANSUhEUgAAAbAAAAEgCAYAAADVKCZp...  \n",
       "3  b'iVBORw0KGgoAAAANSUhEUgAAAbAAAAEgCAYAAADVKCZp...  \n",
       "4  b'iVBORw0KGgoAAAANSUhEUgAAAbAAAAEgCAYAAADVKCZp...  "
      ]
     },
     "execution_count": 27,
     "metadata": {},
     "output_type": "execute_result"
    }
   ],
   "source": [
    "query1_df.head()"
   ]
  },
  {
   "cell_type": "markdown",
   "metadata": {},
   "source": [
    "#### Getting the Weather Data\n",
    "\n",
    "Note that for this last calculation, you'll need to figure out if it was raining or not during the game. The database itself does not contain this information, but it does contain the date on which the game was played. For this, you'll need to use the [DarkSky API](https://darksky.net/dev) to get the historical weather data for that day. Note that each game is played in a different location, and this information is not contained in our SQL database. However, the teams in this database are largely german, so go ahead and just use the weather in Berlin, Germany as a proxy for this information. If it was raining in Berlin on the day the game was played, count that as rain game--**_you do not need to try and figure out the actual weather at each game's location, because we don't have that information!_**\n",
    "\n",
    "#### NOTE: The DarkSky API is limited to 1000 free API calls a day, so be sure to test your model on very small samples. Otherwise, you'll hit the rate limit!\n",
    "\n"
   ]
  },
  {
   "cell_type": "code",
   "execution_count": 28,
   "metadata": {},
   "outputs": [],
   "source": [
    "query2 = \"\"\"\n",
    "                SELECT  Date,\n",
    "                        HomeTeam AS Team, \n",
    "                        FTHG AS num_goals,\n",
    "                        CASE FTR WHEN 'H' THEN 1 ELSE 0 END AS num_win\n",
    "                FROM Matches\n",
    "                WHERE Season = 2011\n",
    "                UNION ALL \n",
    "                SELECT  Date,\n",
    "                        AwayTeam AS Team,\n",
    "                        FTAG AS num_goals,\n",
    "                        CASE FTR WHEN 'A' THEN 1 ELSE 0 END AS num_win_away\n",
    "                FROM Matches\n",
    "                WHERE Season = 2011;\n",
    "        \"\"\""
   ]
  },
  {
   "cell_type": "code",
   "execution_count": 29,
   "metadata": {
    "scrolled": false
   },
   "outputs": [
    {
     "data": {
      "text/html": [
       "<div>\n",
       "<style scoped>\n",
       "    .dataframe tbody tr th:only-of-type {\n",
       "        vertical-align: middle;\n",
       "    }\n",
       "\n",
       "    .dataframe tbody tr th {\n",
       "        vertical-align: top;\n",
       "    }\n",
       "\n",
       "    .dataframe thead th {\n",
       "        text-align: right;\n",
       "    }\n",
       "</style>\n",
       "<table border=\"1\" class=\"dataframe\">\n",
       "  <thead>\n",
       "    <tr style=\"text-align: right;\">\n",
       "      <th></th>\n",
       "      <th>Date</th>\n",
       "      <th>Team</th>\n",
       "      <th>num_goals</th>\n",
       "      <th>num_win</th>\n",
       "    </tr>\n",
       "  </thead>\n",
       "  <tbody>\n",
       "    <tr>\n",
       "      <th>0</th>\n",
       "      <td>2012-03-31</td>\n",
       "      <td>Nurnberg</td>\n",
       "      <td>0</td>\n",
       "      <td>0</td>\n",
       "    </tr>\n",
       "    <tr>\n",
       "      <th>1</th>\n",
       "      <td>2011-12-11</td>\n",
       "      <td>Stuttgart</td>\n",
       "      <td>1</td>\n",
       "      <td>0</td>\n",
       "    </tr>\n",
       "    <tr>\n",
       "      <th>2</th>\n",
       "      <td>2011-08-13</td>\n",
       "      <td>Wolfsburg</td>\n",
       "      <td>0</td>\n",
       "      <td>0</td>\n",
       "    </tr>\n",
       "    <tr>\n",
       "      <th>3</th>\n",
       "      <td>2011-11-27</td>\n",
       "      <td>Mainz</td>\n",
       "      <td>3</td>\n",
       "      <td>1</td>\n",
       "    </tr>\n",
       "    <tr>\n",
       "      <th>4</th>\n",
       "      <td>2012-02-18</td>\n",
       "      <td>Freiburg</td>\n",
       "      <td>0</td>\n",
       "      <td>0</td>\n",
       "    </tr>\n",
       "  </tbody>\n",
       "</table>\n",
       "</div>"
      ],
      "text/plain": [
       "         Date       Team  num_goals  num_win\n",
       "0  2012-03-31   Nurnberg          0        0\n",
       "1  2011-12-11  Stuttgart          1        0\n",
       "2  2011-08-13  Wolfsburg          0        0\n",
       "3  2011-11-27      Mainz          3        1\n",
       "4  2012-02-18   Freiburg          0        0"
      ]
     },
     "execution_count": 29,
     "metadata": {},
     "output_type": "execute_result"
    }
   ],
   "source": [
    "query2_df = extracttable('Matches',query2)\n",
    "query2_df.head()"
   ]
  },
  {
   "cell_type": "code",
   "execution_count": 30,
   "metadata": {},
   "outputs": [],
   "source": [
    "# convert Date to timestamp \n",
    "query2_df['Date'] = pd.to_datetime(query2_df.Date)"
   ]
  },
  {
   "cell_type": "code",
   "execution_count": 31,
   "metadata": {},
   "outputs": [],
   "source": [
    "# convert timestamp to unixtime as date object for api filter\n",
    "query2_df['Unixtime'] = query2_df.Date.apply(lambda x: x.value//10**9) "
   ]
  },
  {
   "cell_type": "markdown",
   "metadata": {},
   "source": [
    "## Weather getter class to take in lat_lon and obtain a the match dataframe with only the rainingday rows"
   ]
  },
  {
   "cell_type": "code",
   "execution_count": 32,
   "metadata": {},
   "outputs": [],
   "source": [
    "lat_lon = '52.5200,13.4050'  # lat_lon for Berlin Germany \n",
    "class RainGetter():\n",
    "    '''\n",
    "    Initialize a class with a base url without unixtime \n",
    "    '''\n",
    "    def __init__(self,lat_lon):\n",
    "        self.lat_lon = lat_lon\n",
    "        key = os.environ.get('WEATHERKEY')\n",
    "        base_url = 'https://api.darksky.net/forecast/'\n",
    "        self.url = '/'.join(s.strip('/') for s in [base_url, key,lat_lon])\n",
    "    \n",
    "    def is_raining(self,unixtime):\n",
    "        '''\n",
    "        adds specific unix time and returns true or false for raining \n",
    "        '''\n",
    "        url = f'{self.url},{unixtime}'\n",
    "        resp = requests.get(url)\n",
    "        if resp.json()['daily']['data'][0].get('precipType') == 'rain':\n",
    "            return True\n",
    "        return False\n",
    "    def raining_by_day(self, time_list):\n",
    "        '''\n",
    "        creates a dictionary of unix time to raining day \n",
    "        '''\n",
    "        raining_day ={}\n",
    "        for time in time_list:\n",
    "            raining_day[time] = self.is_raining(time)\n",
    "        return raining_day\n",
    "    def team_info_rain(self, df_frame, time_list):\n",
    "        '''\n",
    "        returns filtered dataframe with only raining days \n",
    "        '''\n",
    "        ind = df_frame['Unixtime'].map(self.raining_by_day(time_list))\n",
    "        return df_frame[ind]"
   ]
  },
  {
   "cell_type": "code",
   "execution_count": 33,
   "metadata": {},
   "outputs": [],
   "source": [
    "# initialize the class \n",
    "Rain_matches = RainGetter(lat_lon)\n",
    "# only need to look at unique unix time to reduce requests \n",
    "time_list = query2_df.Unixtime.unique().tolist()  # 165 unique times"
   ]
  },
  {
   "cell_type": "code",
   "execution_count": 51,
   "metadata": {},
   "outputs": [],
   "source": [
    "# Don't run this again to prevent extra api calls due to 1000 limiations \n",
    "\n",
    "# rain_matches = Rain_matches.team_info_rain(query2_df, time_list)"
   ]
  },
  {
   "cell_type": "code",
   "execution_count": 35,
   "metadata": {
    "scrolled": true
   },
   "outputs": [],
   "source": [
    "# create toal_game list and total_win list per team table for percent calculation \n",
    "total_game = rain_matches.groupby('Team').size().tolist()\n",
    "wins = rain_matches.groupby('Team')['num_win'].sum().tolist()\n",
    "team_index = rain_matches.groupby('Team').size().index  # both have the same team index "
   ]
  },
  {
   "cell_type": "code",
   "execution_count": 36,
   "metadata": {},
   "outputs": [],
   "source": [
    "# map a percent win dictionary to add to the query_1 df \n",
    "percent_win = {}\n",
    "for i in range(len(team_index)):\n",
    "    percent_win[team_index[i]] = wins[i]/total_game[i]*100"
   ]
  },
  {
   "cell_type": "code",
   "execution_count": 38,
   "metadata": {},
   "outputs": [],
   "source": [
    "# map into final merged df \n",
    "query1_df['percent_win_rain'] = query1_df['TeamName'].map(percent_win)"
   ]
  },
  {
   "cell_type": "code",
   "execution_count": 41,
   "metadata": {},
   "outputs": [],
   "source": [
    "# convert them to dictionary to store in mongodb \n",
    "documents = query1_df.to_dict(orient='records')"
   ]
  },
  {
   "cell_type": "markdown",
   "metadata": {},
   "source": [
    "## create mongoloader class to add records into collections "
   ]
  },
  {
   "cell_type": "code",
   "execution_count": 44,
   "metadata": {},
   "outputs": [],
   "source": [
    "class MongoLoader():\n",
    "    '''\n",
    "    initialize a mongodb with a db_name and table name \n",
    "    '''\n",
    "    def __init__(self, db_name, collection_name):\n",
    "        self.db_name = db_name\n",
    "        self.collection_name = collection_name\n",
    "        # create the connection to mongo\n",
    "        myclient = pymongo.MongoClient(\"mongodb://127.0.0.1:27017/\")\n",
    "        # create a database with db_name \n",
    "        mydb = myclient[self.db_name]\n",
    "        # create table with collection_name \n",
    "        self.mycollection = mydb[self.collection_name]\n",
    "    \n",
    "    def add_documents(self, docs):\n",
    "        '''\n",
    "        add documents to the collection \n",
    "        '''\n",
    "        # if docs is not empty \n",
    "        if docs:\n",
    "            if len(docs)==1:  # only one document \n",
    "                self.mycollection.insert_one(docs)\n",
    "            else:\n",
    "                self.mycollection.insert_many(docs)\n",
    "    \n",
    "    def update_document(self,Team_Name, key, value):\n",
    "        '''\n",
    "        update documents in the collection with a specific team_name\n",
    "        '''\n",
    "        if self.mycollection.count():  # make sure it is not empty \n",
    "            record_to_update = {'TeamName':Team_Name }\n",
    "            update = {'$set':{key:value}}\n",
    "            self.mycollection.update_one(record_to_update, update)\n",
    "            \n",
    "    def image_to_string(self, image_name):\n",
    "        '''\n",
    "        convert image to string \n",
    "        '''\n",
    "        with open(image_name,'rb') as imageFile:\n",
    "            s = base64.b64encode(imageFile.read())\n",
    "        return s \n",
    "    \n",
    "    def add_image(self, Team_Name, image_name):\n",
    "        '''\n",
    "        adds image to a team document \n",
    "        '''\n",
    "        if self.mycollection.count():  # make sure it is not empty \n",
    "            record_to_update = {'TeamName':Team_Name}\n",
    "            s = self.image_to_string(image_name)\n",
    "            update = {'$set':{'image':s}}\n",
    "            self.mycollection.update_one(record_to_update, update)"
   ]
  },
  {
   "cell_type": "code",
   "execution_count": 45,
   "metadata": {},
   "outputs": [],
   "source": [
    "# add our documents to my_db withname german_soccer \n",
    "# create an instance\n",
    "DB_Soccer = MongoLoader('mydb','German_Soccer')"
   ]
  },
  {
   "cell_type": "code",
   "execution_count": 46,
   "metadata": {},
   "outputs": [
    {
     "data": {
      "text/plain": [
       "'German_Soccer'"
      ]
     },
     "execution_count": 46,
     "metadata": {},
     "output_type": "execute_result"
    }
   ],
   "source": [
    "DB_Soccer.collection_name"
   ]
  },
  {
   "cell_type": "code",
   "execution_count": 47,
   "metadata": {},
   "outputs": [],
   "source": [
    "# first add documents \n",
    "DB_Soccer.add_documents(documents)"
   ]
  },
  {
   "cell_type": "code",
   "execution_count": 53,
   "metadata": {
    "scrolled": true
   },
   "outputs": [
    {
     "data": {
      "text/plain": [
       "56"
      ]
     },
     "execution_count": 53,
     "metadata": {},
     "output_type": "execute_result"
    }
   ],
   "source": [
    "# check to see we have 56 collections\n",
    "DB_Soccer.mycollection.count_documents({})"
   ]
  },
  {
   "cell_type": "code",
   "execution_count": 54,
   "metadata": {},
   "outputs": [
    {
     "name": "stdout",
     "output_type": "stream",
     "text": [
      "{'_id': ObjectId('5d1823377add232b26d0538d'), 'TeamName': 'Aachen', 'total_goal': 30, 'total_win': 6, 'Images': b'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', 'percent_win_rain': 23.076923076923077}\n",
      "{'_id': ObjectId('5d1823377add232b26d0538e'), 'TeamName': 'Arsenal', 'total_goal': 74, 'total_win': 21, 'Images': b'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', 'percent_win_rain': 57.14285714285714}\n",
      "{'_id': ObjectId('5d1823377add232b26d0538f'), 'TeamName': 'Aston Villa', 'total_goal': 37, 'total_win': 7, 'Images': b'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', 'percent_win_rain': 16.666666666666664}\n"
     ]
    }
   ],
   "source": [
    "# check for records \n",
    "query_1=DB_Soccer.mycollection.find({})\n",
    "\n",
    "i = 0 \n",
    "for x in query_1:\n",
    "    if i < 3:\n",
    "        print(x)\n",
    "    i+= 1\n",
    "        "
   ]
  }
 ],
 "metadata": {
  "kernelspec": {
   "display_name": "Python 3",
   "language": "python",
   "name": "python3"
  },
  "language_info": {
   "codemirror_mode": {
    "name": "ipython",
    "version": 3
   },
   "file_extension": ".py",
   "mimetype": "text/x-python",
   "name": "python",
   "nbconvert_exporter": "python",
   "pygments_lexer": "ipython3",
   "version": "3.7.1"
  }
 },
 "nbformat": 4,
 "nbformat_minor": 2
}
